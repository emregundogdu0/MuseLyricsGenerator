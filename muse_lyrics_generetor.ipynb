{
 "cells": [
  {
   "cell_type": "code",
   "execution_count": 11,
   "metadata": {
    "executionInfo": {
     "elapsed": 43,
     "status": "ok",
     "timestamp": 1754311546936,
     "user": {
      "displayName": "Emre Gündoğdu",
      "userId": "11995102568587263945"
     },
     "user_tz": -180
    },
    "id": "kuuQENniMEL5"
   },
   "outputs": [],
   "source": [
    "from tensorflow.keras.preprocessing.text import Tokenizer"
   ]
  },
  {
   "cell_type": "code",
   "execution_count": 12,
   "metadata": {
    "executionInfo": {
     "elapsed": 12,
     "status": "ok",
     "timestamp": 1754311547752,
     "user": {
      "displayName": "Emre Gündoğdu",
      "userId": "11995102568587263945"
     },
     "user_tz": -180
    },
    "id": "dxXCfl-YNSXn"
   },
   "outputs": [],
   "source": [
    "import tensorflow as tf\n",
    "\n",
    "from tensorflow.keras.preprocessing.sequence import pad_sequences\n",
    "from tensorflow.keras.layers import Embedding, LSTM, Dense, Bidirectional\n",
    "from tensorflow.keras.preprocessing.text import Tokenizer\n",
    "from tensorflow.keras.models import Sequential\n",
    "from tensorflow.keras.optimizers import Adam\n",
    "import numpy as np"
   ]
  },
  {
   "cell_type": "code",
   "execution_count": null,
   "metadata": {
    "colab": {
     "base_uri": "https://localhost:8080/"
    },
    "executionInfo": {
     "elapsed": 423,
     "status": "ok",
     "timestamp": 1754311660461,
     "user": {
      "displayName": "Emre Gündoğdu",
      "userId": "11995102568587263945"
     },
     "user_tz": -180
    },
    "id": "bFxCwhzcGkQo",
    "outputId": "b175880e-03ff-4778-9783-fba45d95a892"
   },
   "outputs": [
    {
     "name": "stdout",
     "output_type": "stream",
     "text": [
      "{'you': 1, 'the': 2, 'and': 3, 'i': 4, 'to': 5, 'me': 6, 'a': 7, 'your': 8, 'it': 9, 'in': 10, 'of': 11, 'will': 12, 'my': 13, 'be': 14, 'we': 15, \"i'm\": 16, 'is': 17, 'can': 18, 'this': 19, \"don't\": 20, \"it's\": 21, 'for': 22, 'all': 23, \"can't\": 24, 'are': 25, 'on': 26, 'that': 27, \"you're\": 28, 'no': 29, 'us': 30, 'but': 31, 'just': 32, 'so': 33, 'never': 34, 'our': 35, 'now': 36, 'out': 37, 'pro': 38, \"i'll\": 39, 'feel': 40, 'from': 41, 'one': 42, 'know': 43, 'up': 44, 'with': 45, 'want': 46, 'when': 47, 'have': 48, 'make': 49, 'could': 50, 'away': 51, 'love': 52, 'oh': 53, 'let': 54, 'down': 55, 'gonna': 56, 'need': 57, 'too': 58, 'yeah': 59, \"won't\": 60, 'they': 61, 'what': 62, \"you've\": 63, 'who': 64, 'world': 65, 'see': 66, 'break': 67, 'do': 68, 'not': 69, 'time': 70, 'been': 71, 'ah': 72, 'like': 73, 'life': 74, 'come': 75, 'how': 76, 'free': 77, 'wrong': 78, 'give': 79, 'get': 80, \"i've\": 81, 'people': 82, 'am': 83, 'take': 84, 'fight': 85, 'run': 86, 'was': 87, 'control': 88, 'baby': 89, 'or': 90, 'into': 91, 'has': 92, 'through': 93, 'tell': 94, \"we're\": 95, 'way': 96, \"you'll\": 97, 'inside': 98, 'at': 99, 'by': 100, 'heart': 101, 'find': 102, 'much': 103, 'got': 104, \"there's\": 105, 'if': 106, 'left': 107, 'soul': 108, 'must': 109, 'ga': 110, 'halloween': 111, 'there': 112, 'care': 113, 'nothing': 114, 'again': 115, 'thanx': 116, 'lot': 117, 'everything': 118, 'push': 119, 'com': 120, 'had': 121, 'alone': 122, 'please': 123, 'always': 124, 'hide': 125, 'say': 126, 'good': 127, 'keep': 128, 'compliance': 129, 'show': 130, 'truth': 131, 'gone': 132, 'change': 133, 'last': 134, \"'cause\": 135, 'only': 136, 'why': 137, 'go': 138, 'new': 139, 'turn': 140, \"they're\": 141, \"we'll\": 142, 'an': 143, 'lost': 144, 'long': 145, 'fall': 146, 'as': 147, 'should': 148, 'dead': 149, 'eyes': 150, 'off': 151, 'end': 152, 'here': 153, 'burn': 154, 'hold': 155, 'kill': 156, 'human': 157, 'lose': 158, 'pain': 159, 'god': 160, 'lies': 161, 'were': 162, 'mind': 163, \"they'll\": 164, 'right': 165, 'another': 166, 'more': 167, 'falling': 168, 'think': 169, 'yourself': 170, 'pull': 171, 'touch': 172, 'black': 173, 'fucking': 174, 'killed': 175, 'shame': 176, 'chance': 177, 'because': 178, 'stop': 179, 'running': 180, 'thought': 181, 'set': 182, 'still': 183, 'corrected': 184, 'someone': 185, 'light': 186, 'losing': 187, 'breaking': 188, 'alive': 189, 'knows': 190, 'supermassive': 191, 'grow': 192, 'these': 193, 'save': 194, 'would': 195, 'before': 196, 'things': 197, 'die': 198, 'seen': 199, 'memories': 200, 'head': 201, 'bad': 202, 'hole': 203, 'without': 204, 'isolated': 205, 'euphoria': 206, 'face': 207, 'something': 208, 'over': 209, 'about': 210, 'moment': 211, 'hell': 212, 'win': 213, 'mercy': 214, 'drones': 215, 'dig': 216, 'thank': 217, 'ep': 218, 'she': 219, 'sun': 220, 'ever': 221, 'feeling': 222, 'dream': 223, 'hear': 224, 'souls': 225, 'blame': 226, 'making': 227, 'peace': 228, 'really': 229, 'crying': 230, 'stand': 231, 'best': 232, 'true': 233, 'together': 234, 'war': 235, 'fuck': 236, 'psycho': 237, 'broken': 238, 'resist': 239, 'forget': 240, 'leave': 241, 'anymore': 242, 'believe': 243, 'coming': 244, 'fear': 245, 'around': 246, 'watch': 247, 'propa': 248, 'woah': 249, 'back': 250, 'growing': 251, 'wanted': 252, 'wish': 253, 'cold': 254, \"we've\": 255, 'loneliness': 256, 'trapped': 257, 'pressure': 258, 'rob': 259, 'sin': 260, 'system': 261, 'trust': 262, 'try': 263, 'single': 264, 'controlling': 265, 'greed': 266, 'same': 267, 'young': 268, 'afraid': 269, 'real': 270, 'hopes': 271, 'understand': 272, 'hope': 273, 'alight': 274, 'night': 275, 'follow': 276, 'survive': 277, 'dot': 278, 'net': 279, 'copy': 280, 'paste': 281, 'fucked': 282, 'hey': 283, 'look': 284, 'mistake': 285, 'soon': 286, 'feelings': 287, 'live': 288, 'far': 289, 'destroy': 290, 'space': 291, \"who's\": 292, 'bring': 293, 'dark': 294, 'lives': 295, 'stay': 296, \"let's\": 297, 'well': 298, 'longer': 299, 'building': 300, 'easily': 301, \"you'd\": 302, 'late': 303, 'trying': 304, 'scream': 305, 'dreams': 306, 'number': 307, 'whole': 308, 'done': 309, 'tired': 310, 'sure': 311, 'used': 312, 'day': 313, 'sleep': 314, 'universe': 315, 'choose': 316, 'belong': 317, 'bound': 318, 'faith': 319, 'many': 320, 'law': 321, 'revolt': 322, 'contagion': 323, 'burns': 324, 'behind': 325, 'forever': 326, 'wait': 327, 'self': 328, 'solid': 329, 'its': 330, 'escape': 331, 'where': 332, 'born': 333, 'hour': 334, 'their': 335, 'wanna': 336, 'erase': 337, 'lips': 338, 'rise': 339, 'against': 340, 'power': 341, 'place': 342, 'told': 343, 'guiding': 344, 'confused': 345, 'then': 346, 'rescue': 347, 'warm': 348, 'babe': 349, 'aye': 350, 'sir': 351, 'gan': 352, 'bitten': 353, 'until': 354, 'missed': 355, 'than': 356, 'own': 357, 'made': 358, 'found': 359, 'anything': 360, 'some': 361, 'strong': 362, 'home': 363, 'comes': 364, 'joy': 365, 'apart': 366, 'forgotten': 367, 'race': 368, 'cover': 369, 'doing': 370, 'remember': 371, 'high': 372, 'yes': 373, 'map': 374, 'refuse': 375, 'cause': 376, 'fake': 377, 'fighting': 378, 'spread': 379, 'tried': 380, 'pray': 381, 'crumbling': 382, 'blood': 383, 'glaciers': 384, 'melting': 385, 'superstars': 386, 'sucked': 387, 'side': 388, 'wake': 389, 'them': 390, 'reach': 391, 'fate': 392, 'words': 393, 'finally': 394, 'strength': 395, 'crush': 396, 'unsustain': 397, \"uns'\": 398, 'any': 399, 'defector': 400, 'inc': 401, 'ganda': 402, 'pretty': 403, 'welcome': 404, 'house': 405, 'every': 406, 'big': 407, 'five': 408, \"wasn't\": 409, 'cave': 410, 'close': 411, 'mistakes': 412, 'forcing': 413, 'means': 414, 'living': 415, 'pay': 416, 'hate': 417, 'skies': 418, 'getting': 419, 'play': 420, 'under': 421, 'did': 422, 'scared': 423, 'plug': 424, 'game': 425, 'mine': 426, 'loved': 427, 'insane': 428, 'beautiful': 429, 'old': 430, 'force': 431, 'even': 432, 'dying': 433, 'underground': 434, 'whatever': 435, 'air': 436, 'promise': 437, 'use': 438, 'hearts': 439, 'arms': 440, 'invincible': 441, 'tonight': 442, 'walls': 443, 'start': 444, 'violence': 445, 'states': 446, 'return': 447, 'help': 448, 'entropy': 449, 'ass': 450, 'belongs': 451, 'killing': 452, 'ground': 453, 'move': 454, 'groove': 455, 'endless': 456, 'other': 457, 'reveal': 458, 'led': 459, 'thousand': 460, 'name': 461, 'two': 462, 'clouds': 463, 'destruction': 464, 'ruled': 465, 'reason': 466, 'wild': 467, 'needed': 468, 'squeeze': 469, 'everywhere': 470, 'worth': 471, 'bliss': 472, 'less': 473, 'stefanía': 474, 'tear': 475, 'cares': 476, 'open': 477, 'screaming': 478, 'holes': 479, 'shines': 480, '01': 481, 'felt': 482, 'freezing': 483, 'gotta': 484, \"one's\": 485, 'ashamed': 486, 'star': 487, 'history': 488, 'death': 489, 'bury': 490, 'deep': 491, 'thing': 492, 'fade': 493, 'endlessly': 494, 'hard': 495, 'heard': 496, 'arrived': 497, 'part': 498, 'hopelessly': 499, 'scares': 500, 'eye': 501, 'sins': 502, 'future': 503, 'panic': 504, 'truly': 505, 'build': 506, 'takes': 507, 're': 508, 'à': 509, 'répond': 510, 'verse': 511, 'moi': 512, 'edge': 513, 'madness': 514, 'walk': 515, 'energy': 516, 'rising': 517, 'beat': 518, 'liberation': 519, 'sorrow': 520, 'grows': 521, \"she'll\": 522, 'burning': 523, 'sing': 524, 'begin': 525, 'darkest': 526, 'choice': 527, 'pieces': 528, 'blew': 529, \"doesn't\": 530, 'earth': 531, 'freedom': 532, 'above': 533, 'sick': 534, \"i'd\": 535, 'cut': 536, 'feed': 537, 'confuse': 538, 'lie': 539, 'hands': 540, 'skin': 541, 'bringing': 542, 'fears': 543, 'mean': 544, 'disguise': 545, 'june': 546, 'suffocating': 547, 'cannot': 548, 'instead': 549, \"that's\": 550, 'sense': 551, 'beg': 552, 'harm': 553, 'pretend': 554, 'spell': 555, 'kiss': 556, 'starlight': 557, 'begun': 558, 'forgive': 559, 'revelations': 560, 'reasons': 561, 'rest': 562, \"what's\": 563, 'revolution': 564, 'safe': 565, 'unnatural': 566, 'selection': 567, 'ocean': 568, 'virus': 569, 'wall': 570, 'ma': 571, 'tendresse': 572, 'station': 573, \"fire's\": 574, 'unsustainable': 575, 'feels': 576, 'men': 577, 'handle': 578, 'silenced': 579, 'offers': 580, 'door': 581, 'smash': 582, 'defiance': 583, 'else': 584, 'eternally': 585, 'waste': 586, 'guilty': 587, 'adore': 588, 'myself': 589, 'memory': 590, 'looking': 591, 'taste': 592, 'unfold': 593, 'pushing': 594, 'wallow': 595, 'unintended': 596, 'first': 597, 'balance': 598, 'uno': 599, 'fun': 600, 'years': 601, 'remain': 602, 'meaningless': 603, 'such': 604, 'brain': 605, 'driving': 606, 'overdue': 607, 'matter': 608, 'paid': 609, 'link': 610, 'nowhere': 611, 'happiness': 612, 'settle': 613, 'pains': 614, 'watching': 615, 'gives': 616, 'vicky': 617, 'francesco': 618, 'ooh': 619, 'trouble': 620, 'cuts': 621, 'red': 622, 'sore': 623, 'stars': 624, 'shine': 625, 'built': 626, 'shrinking': 627, 'cast': 628, 'struggle': 629, 'miss': 630, 'shut': 631, \"they've\": 632, \"aren't\": 633, 'listening': 634, 'riccardo': 635, 'protect': 636, 'comfort': 637, 'emergency': 638, 'turning': 639, 'blue': 640, 'become': 641, 'decay': 642, 'fool': 643, 'past': 644, 'ahead': 645, 'sell': 646, 'per': 647, \"it'll\": 648, 'going': 649, 'slave': 650, 'speak': 651, 'between': 652, 'ends': 653, 'risk': 654, 'expectations': 655, 'false': 656, 'throw': 657, 'shoot': 658, 'leaders': 659, 'pace': 660, 'waiting': 661, 'patiently': 662, 'sign': 663, 'city': 664, 'delusion': 665, 'beliefs': 666, 'crisis': 667, 'man': 668, 'ride': 669, 'rights': 670, 'resistance': 671, 'undisclosed': 672, 'desires': 673, 'mask': 674, 'demons': 675, 'united': 676, 'warmth': 677, 'laugh': 678, 'lucky': 679, \"l'ivresse\": 680, 'final': 681, 'three': 682, 'four': 683, 'six': 684, 'seven': 685, 'eight': 686, 'minus': 687, 'nine': 688, 'animals': 689, 'rules': 690, 'buy': 691, 'owned': 692, 'magic': 693, 'becoming': 694, 'poison': 695, 'unsu': 696, 'unsustainer': 697, 'increase': 698, 'letting': 699, 'drone': 700, 'machine': 701, 'killer': 702, 'gods': 703, 'inciting': 704, 'brainwash': 705, 'problem': 706, 'society': 707, 'great': 708, 'creator': 709, 'telling': 710, 'strung': 711, 'believer': 712, 'void': 713, 'work': 714, 'enough': 715, 'opened': 716, 'coma': 717, 'meant': 718, 'kissing': 719, 'grounded': 720, 'boxed': 721, 'conscience': 722, 'shared': 723, 'her': 724, 'begging': 725, 'prove': 726, 'fifteen': 727, 'town': 728, 'already': 729, 'nought': 730, 'screams': 731, 'visions': 732, 'busy': 733, 'mending': 734, 'glass': 735, 'unfrozen': 736, 'suppose': 737, 'stands': 738, \"didn't\": 739, 'steal': 740, 'soulless': 741, 'wasting': 742, 'resonates': 743, 'dementia': 744, 'underneath': 745, 'changing': 746, 'giving': 747, 'loving': 748, 'erased': 749, 'stage': 750, 'minded': 751, 'wash': 752, 'draw': 753, 'innocence': 754, 'dawn': 755, 'prepared': 756, 'laws': 757, 'forced': 758, '00': 759, 'awake': 760, 'year': 761, 'kissed': 762, 'truths': 763, \"who'll\": 764, 'language': 765, 'saw': 766, '1': 767, 'monday': 768, 'cool': 769, 'natural': 770, \"someone's\": 771, 'cry': 772, 'believed': 773, 'once': 774, 'emotional': 775, 'kills': 776, 'makes': 777, 'hurting': 778, 'lonely': 779, 'blow': 780, 'weak': 781, 'along': 782, 'agitated': 783, 'declare': 784, 'urgency': 785, 'smother': 786, 'murder': 787, 'absolution': 788, 'gloom': 789, 'shout': 790, 'flash': 791, 'backs': 792, 'chase': 793, 'fast': 794, 'embrace': 795, \"life's\": 796, 'fights': 797, 'times': 798, 'bending': 799, 'grave': 800, 'priest': 801, 'asleep': 802, 'breathe': 803, 'cleanse': 804, 'punish': 805, 'fuss': 806, 'mess': 807, 'country': 808, 'crimes': 809, 'hex': 810, 'ignite': 811, 'being': 812, 'lay': 813, 'during': 814, 'assassin': 815, 'bereft': 816, 'aim': 817, 'fill': 818, 'loaded': 819, 'satellites': 820, 'conquer': 821, 'minds': 822, 'locked': 823, 'line': 824, 'avenge': 825, 'justify': 826, 'veins': 827, 'degrading': 828, 'victorious': 829, 'hiding': 830, 'sealed': 831, 'smile': 832, 'prayers': 833, 'reconcile': 834, 'recognise': 835, \"beauty's\": 836, 'exorcise': 837, 'satisfy': 838, 'eurasia': 839, 'wars': 840, 'won': 841, 'fragile': 842, 'hurt': 843, 'crushed': 844, 'counter': 845, 'commotion': 846, 'droplets': 847, 'storm': 848, 'whilst': 849, 'evolve': 850, \"mind's\": 851, 'travelled': 852, 'half': 853, 'exogenesis': 854, 'symphony': 855, 'cross': 856, '3': 857, 'supremacy': 858, 'fantasy': 859, 'kind': 860, 'realised': 861, 'taking': 862, 'chaos': 863, 'defies': 864, 'imagination': 865, 'fuse': 866, 'listen': 867, 'darkness': 868, 'slipped': 869, 'died': 870, 'those': 871, 'none': 872, 'concede': 873, 'imprisoning': 874, 'convey': 875, 'destroyed': 876, 'while': 877, 'drown': 878, 'increases': 879, 'million': 880, 'outside': 881, 'questions': 882, 'cloaks': 883, 'ghosts': 884, 'powers': 885, 'machines': 886, 'reapers': 887, 'obey': 888, 'maze': 889, 'flee': 890, 'solution': 891, 'paganda': 892, 'toy': 893, 'dress': 894, 'bush': 895, 'edit': 896, 'redact': 897, 'dumbing': 898, 'don’t': 899, 'mend': 900, 'road': 901, 'money': 902, 'blockades': 903, 'raze': 904, 'rush': 905, 'seize': 906, 'test': 907, 'summoned': 908, 'odds': 909, 'desecration': 910, 'celebration': 911, 'judges': 912, 'jailed': 913, 'ours': 914, 'second': 915, 'plans': 916, 'playing': 917, 'stronger': 918, 'everyone': 919, 'talks': 920, \"here's\": 921, 'ghost': 922, 'lest': 923, 'reset': 924, 'lights': 925, 'skulk': 926, \"'round\": 927, 'forbidden': 928, 'numb': 929, 'wildfires': 930, 'earthquakes': 931, 'foresaw': 932, 'tsunamis': 933, 'apathy': 934, 'simply': 935, 'muscle': 936, 'museum': 937, 'turns': 938, 'glorious': 939, 'keeps': 940, 'unseparated': 941, 'twins': 942, 'boys': 943, 'ha': 944, 'secretly': 945, 'horizons': 946, 'frame': 947, 'confess': 948, 'little': 949, 'escaped': 950, 'needing': 951, 'ignore': 952, 'pleases': 953, 'happening': 954, 'scent': 955, 'anybody': 956, 'strange': 957, 'knew': 958, 'houses': 959, 'crawling': 960, 'heading': 961, 'straight': 962, 'serious': 963, 'almost': 964, 'word': 965, 'rhythms': 966, 'extended': 967, 'royal': 968, 'canadian': 969, 'blended': 970, 'spicy': 971, 'aroma': 972, 'mended': 973, 'chosen': 974, 'insignificance': 975, 'distance': 976, 'needs': 977, 'assistance': 978, 'both': 979, 'mad': 980, 'said': 981, 'aroused': 982, 'afford': 983, 'stretch': 984, 'birth': 985, 'bitterness': 986, 'hopeless': 987, 'spineless': 988, 'silence': 989, 'drifting': 990, '‘cause': 991, 'envying': 992, 'dirty': 993, 'arise': 994, 'hyper': 995, 'music': 996, 'golden': 997, 'role': 998, 'returned': 999, 'remains': 1000, 'spit': 1001, 'proof': 1002, 'restrains': 1003, 'crucifies': 1004, 'enemies': 1005, 'wooah': 1006, 'unbroken': 1007, 'virgin': 1008, 'realities': 1009, \"truth's\": 1010, 'unwinding': 1011, 'scraping': 1012, 'asking': 1013, 'describe': 1014, 'clean': 1015, 'micro': 1016, 'destroying': 1017, 'puppet': 1018, 'strings': 1019, 'tom': 1020, 'mirror': 1021, 'family': 1022, 'host': 1023, 'thrills': 1024, 'consume': 1025, 'suppress': 1026, 'sky': 1027, 'butterflies': 1028, 'oooh': 1029, 'paradise': 1030, 'price': 1031, 'useless': 1032, '99': 1033, 'ideals': 1034, 'purposeless': 1035, 'survival': 1036, 'sunburn': 1037, 'february': 1038, 'noise': 1039, 'empty': 1040, 'liquid': 1041, 'nature': 1042, 'march': 1043, 'earthquake': 1044, 'disaster': 1045, 'emotions': 1046, 'eternal': 1047, 'promised': 1048, 'steve': 1049, 'finds': 1050, 'crawl': 1051, 'thinking': 1052, '02': 1053, 'thomas': 1054, 'hated': 1055, 'affect': 1056, 'untrue': 1057, 'sweetly': 1058, 'lovely': 1059, 'crazy': 1060, 'miracle': 1061, 'biblical': 1062, 'drowning': 1063, 'created': 1064, 'ooooohh': 1065, 'suck': 1066, 'renew': 1067, 'room': 1068, 'singing': 1069, 'grace': 1070, 'confide': 1071, 'anger': 1072, 'recall': 1073, 'abandon': 1074, 'avail': 1075, 'intertwine': 1076, 'tasting': 1077, 'cherished': 1078, 'hysteria': 1079, 'caving': 1080, 'holding': 1081, 'within': 1082, 'escaping': 1083, 'ann': 1084, 'julie': 1085, 'helga': 1086, 'dís': 1087, 'kid': 1088, 'called': 1089, 'battles': 1090, 'revenge': 1091, 'surely': 1092, 'pounds': 1093, 'days': 1094, 'sigh': 1095, 'creates': 1096, 'wind': 1097, 'bow': 1098, 'corrupt': 1099, 'corruption': 1100, 'behold': 1101, \"freedom's\": 1102, 'ship': 1103, 'taken': 1104, 'moan': 1105, 'despair': 1106, 'since': 1107, 'met': 1108, 'scattered': 1109, 'bleed': 1110, 'ourselves': 1111, 'deserve': 1112, 'send': 1113, 'justice': 1114, 'join': 1115, 'increasing': 1116, 'warped': 1117, 'bewitched': 1118, 'torn': 1119, 'disagree': 1120, 'zetas': 1121, 'fully': 1122, 'secrets': 1123, 'divine': 1124, 'dust': 1125, 'falls': 1126, 'uprising': 1127, 'transmissions': 1128, 'green': 1129, 'wrapped': 1130, 'sight': 1131, 'digging': 1132, 'wont': 1133, 'pure': 1134, 'split': 1135, 'punished': 1136, 'core': 1137, 'detached': 1138, 'hungry': 1139, 'unrest': 1140, 'beyond': 1141, 'peaceful': 1142, 'protest': 1143, 'facts': 1144, 'share': 1145, 'random': 1146, 'deception': 1147, 'create': 1148, 'invisible': 1149, 'strike': 1150, 'overture': 1151, 'stole': 1152, 'program': 1153, '2': 1154, 'toxic': 1155, 'sphere': 1156, 'codes': 1157, 'brave': 1158, 'children': 1159, 'unleash': 1160, 'warned': 1161, 'animal': 1162, 'analyse': 1163, 'bend': 1164, 'doubt': 1165, 'caged': 1166, 'freeze': 1167, 'collapsing': 1168, 'stellar': 1169, 'gas': 1170, 'electrical': 1171, 'state': 1172, 'spin': 1173, 'till': 1174, 'pushed': 1175, '2nd': 1176, 'technological': 1177, 'wasted': 1178, 'growth': 1179, 'unser': 1180, '10': 1181, 'ablaze': 1182, 'caress': 1183, 'seem': 1184, 'greatest': 1185, 'hunt': 1186, 'command': 1187, 'super': 1188, 'ahhhh': 1189, 'fallen': 1190, 'shadows': 1191, 'silent': 1192, 'devour': 1193, 'rule': 1194, 'deceit': 1195, 'cia': 1196, 'brutalise': 1197, 'remote': 1198, 'hawks': 1199, 'radicalized': 1200, 'handler': 1201, 'disassociate': 1202, 'buried': 1203, 'throne': 1204, 'he': 1205, 'each': 1206, 'betrayed': 1207, 'code': 1208, 'fire': 1209, 'cherish': 1210, 'nation': 1211, 'mother': 1212, 'aside': 1213, 'lived': 1214, 'able': 1215, 'strain': 1216, 'ashes': 1217, 'invent': 1218, 'emerge': 1219, 'reborn': 1220, 'blown': 1221, 'miles': 1222, 'hundred': 1223, 'hours': 1224, \"'til\": 1225, 'cleansed': 1226, 'infinite': 1227, 'learn': 1228, 'hungrier': 1229, 'brace': 1230, 'horizon': 1231, 'frightened': 1232, 'voices': 1233, 'seeking': 1234, 'gun': 1235, 'friends': 1236, 'divide': 1237, 'estranged': 1238, 'boundless': 1239, 'reliance': 1240, 'intend': 1241, 'guess': 1242, 'trample': 1243, 'counted': 1244, 'clearer': 1245, 'user': 1246, 'abuser': 1247, 'counterattack': 1248, 'cutting': 1249, 'coldness': 1250, 'shackled': 1251, 'misery': 1252, 'either': 1253, 'brooding': 1254, 'renewing': 1255, 'satisfaction': 1256, 'gut': 1257, 'reaction': 1258, \"deaths'\": 1259, 'mutated': 1260, 'stockpile': 1261, 'heaven': 1262, 'quite': 1263, 'alright': 1264, 'nights': 1265, 'mike': 1266, 'consumed': 1267, 'although': 1268, 'console': 1269, 'needles': 1270, 'hay': 1271, 'forgives': 1272, 'holy': 1273, 'shroud': 1274, 'japanese': 1275, 'edition': 1276, 'evil': 1277, 'stuck': 1278, 'bruises': 1279, 'drives': 1280, \"stranger's\": 1281, 'rockets': 1282, 'fuels': 1283, 'feeds': 1284, 'curse': 1285, 'cos': 1286, 'abused': 1287, 'overused': 1288, 'orleans': 1289, 'call': 1290, 'ruin': 1291, 'poor': 1292, 'boy': 1293, 'spend': 1294, 'jimmy': 1295, 'kane': 1296, 'sex': 1297, '50': 1298, 'instant': 1299, 'message': 1300, 'lord': 1301, 'static': 1302, 'breaks': 1303, 'gentle': 1304, 'morning': 1305, 'promote': 1306, 'carted': 1307, \"toys'll\": 1308, 'tossed': 1309, 'bang': 1310, 'rough': 1311, 'beater': 1312, 'gets': 1313, 'millions': 1314, 'sneers': 1315, 'corporate': 1316, 'dared': 1317, 'cries': 1318, 'shown': 1319, 'played': 1320, 'toilet': 1321, 'spoil': 1322, 'blowing': 1323, 'direction': 1324, 'accuse': 1325, 'calling': 1326, \"wouldn't\": 1327, 'broke': 1328, 'noooooo': 1329, 'upside': 1330, 'ears': 1331, 'arrest': 1332, 'listens': 1333, 'deepest': 1334, 'inquisitions': 1335, 'challenged': 1336, 'clue': 1337, 'sober': 1338, 'matured': 1339, 'imported': 1340, 'poured': 1341, \"turkey's\": 1342, 'caramel': 1343, 'nose': 1344, 'smell': 1345, 'arbourler': 1346, 'jameson': 1347, 'malts': 1348, 'uncontrollable': 1349, 'unlovable': 1350, 'monster': 1351, 'bully': 1352, 'realise': 1353, 'talking': 1354, 'allowing': 1355, 'service': 1356, 'discard': 1357, 'blaze': 1358, 'roam': 1359, 'fades': 1360, 'swelling': 1361, 'unstoppable': 1362, 'naturally': 1363, 'easy': 1364, 'rene': 1365, 'h8': 1366, 'helps': 1367, 'co': 1368, 'exist': 1369, 'chill': 1370, 'tricks': 1371, 'twisted': 1372, 'games': 1373, 'malvina': 1374, 'riggy': 1375, 'exposed': 1376, 'surprise': 1377, 'cleansing': 1378, 'replace': 1379, 'citizen': 1380, 'teach': 1381, 'cheat': 1382, \"shouldn't\": 1383, 'him': 1384, 'expressed': 1385, 'exhausting': 1386, 'body': 1387, 'megaphone': 1388, 'whimpers': 1389, \"should've\": 1390, 'weeping': 1391, 'waves': 1392, 'blade': 1393, 'sounds': 1394, 'forks': 1395, 'plate': 1396, 'blackboard': 1397, 'scratched': 1398, 'screenager': 1399, 'phoney': 1400, 'surrounded': 1401, 'scars': 1402, 'post': 1403, 'bills': 1404, 'cracks': 1405, 'lain': 1406, 'passing': 1407, 'seconds': 1408, 'scary': 1409, 'scenes': 1410, 'birds': 1411, 'flying': 1412, 'reeds': 1413, \"driftin'\": 1414, 'fish': 1415, 'sea': 1416, 'river': 1417, 'blossom': 1418, 'tree': 1419, 'dragonfly': 1420, \"havin'\": 1421, 'bold': 1422, 'pine': 1423, 'megalomania': 1424, 'news': 1425, 'babies': 1426, 'accept': 1427, 'gifts': 1428, 'device': 1429, 'suffice': 1430, 'disturb': 1431, 'attention': 1432, 'reflect': 1433, 'imperfections': 1434, 'recognize': 1435, 'cruelly': 1436, 'suicide': 1437, 'recess': 1438, 'resuscitate': 1439, 'yields': 1440, 'facing': 1441, 'planes': 1442, 'trains': 1443, 'tempting': 1444, 'refrain': 1445, 'chord': 1446, 'dis': 1447, 'absurd': 1448, 'clawed': 1449, 'alex': 1450, 'grown': 1451, 'confuses': 1452, 'computers': 1453, 'today': 1454, 'hit': 1455, 'woke': 1456, 'wearing': 1457, 'socks': 1458, 'phone': 1459, 'might': 1460, 'explode': 1461, 'denis': 1462, 'conforming': 1463, 'often': 1464, 'dam': 1465, 'sticks': 1466, 'stones': 1467, 'shows': 1468, 'acoustic': 1469, 'hypermusic': 1470, 'november': 1471, 'earned': 1472, 'sold': 1473, 'yearned': 1474, 'creeps': 1475, 'noticed': 1476, 'teased': 1477, 'kristine': 1478, 'incase': 1479, 'bear': 1480, 'gyan': 1481, 'chondriac': 1482, 'august': 1483, 'exception': 1484, 'crashing': 1485, 'fading': 1486, 'failing': 1487, 'impress': 1488, 'amie': 1489, 'vicki': 1490, 'hullabaloo': 1491, 'lp': 1492, '07': 1493, 'july': 1494, 'friend': 1495, 'hoping': 1496, 'judith': 1497, 'vinyl': 1498, 'uncomplicated': 1499, 'suffocated': 1500, 'apocalypse': 1501, 'proclaim': 1502, 'victory': 1503, 'course': 1504, 'asphyxiated': 1505, 'contradiction': 1506, 'friction': 1507, 'restricted': 1508, 'addicted': 1509, 'elation': 1510, 'fixation': 1511, 'kevin': 1512, 'chelsea': 1513, 'tiptoe': 1514, 'wrongs': 1515, 'unrectified': 1516, 'exhumed': 1517, 'stockholm': 1518, 'syndrome': 1519, 'hatred': 1520, 'fly': 1521, 'moments': 1522, 'elude': 1523, 'maybe': 1524, 'misunderstood': 1525, 'reckless': 1526, 'staying': 1527, 'breathing': 1528, 'fantasies': 1529, 'threw': 1530, 'bugging': 1531, 'grating': 1532, 'twisting': 1533, 'morphing': 1534, 'strive': 1535, 'dreaming': 1536, 'implode': 1537, 'erode': 1538, 'kristian': 1539, 'dan': 1540, 'blackout': 1541, \"love's\": 1542, 'ugo': 1543, 'updated': 1544, 'hurricanes': 1545, 'alison': 1546, 'small': 1547, 'print': 1548, 'compensate': 1549, 'pretending': 1550, 'plain': 1551, 'thoughts': 1552, 'atheist': 1553, 'eerie': 1554, 'whispers': 1555, 'beneath': 1556, 'pillow': 1557, 'floating': 1558, 'worlds': 1559, 'collide': 1560, \"moment's\": 1561, 'near': 1562, 'faithless': 1563, 'secrecy': 1564, 'repress': 1565, 'restrain': 1566, 'working': 1567, 'charge': 1568, 'success': 1569, 'rebuild': 1570, 'fury': 1571, 'happy': 1572, 'candle': 1573, 'soothes': 1574, 'softens': 1575, 'blows': 1576, 'invented': 1577, \"crack's\": 1578, 'healing': 1579, 'twenty': 1580, 'demented': 1581, 'beholden': 1582, 'consuming': 1583, 'itself': 1584, 'contrary': 1585, 'chasing': 1586, 'electrify': 1587, 'conspire': 1588, 'suffer': 1589, 'caught': 1590, 'pretences': 1591, 'queen': 1592, 'superficial': 1593, 'problematique': 1594, 'desolation': 1595, 'sow': 1596, 'swept': 1597, 'thinks': 1598, \"soldier's\": 1599, 'poem': 1600, 'damn': 1601, 'conceives': 1602, 'difference': 1603, \"soul's\": 1604, 'unbreakable': 1605, 'forces': 1606, 'oppose': 1607, 'demonocracy': 1608, 'exo': 1609, 'politics': 1610, 'conspiracies': 1611, 'unwind': 1612, 'slam': 1613, 'hypnotised': 1614, 'carried': 1615, 'centuries': 1616, 'weights': 1617, 'fortress': 1618, 'shield': 1619, 'theories': 1620, 'seeing': 1621, 'guzzle': 1622, 'squander': 1623, 'deny': 1624, 'hoodoo': 1625, 'regress': 1626, 'reality': 1627, 'picture': 1628, 'instincts': 1629, 'path': 1630, 'protected': 1631, 'tied': 1632, 'railroad': 1633, 'bodies': 1634, 'recurring': 1635, 'nightmares': 1636, 'opportunity': 1637, 'better': 1638, 'knights': 1639, 'cydonia': 1640, 'job': 1641, 'fools': 1642, 'kings': 1643, 'paranoia': 1644, 'bloom': 1645, 'pr': 1646, 'resume': 1647, 'drugs': 1648, 'dumbed': 1649, 'seed': 1650, 'packaged': 1651, 'belts': 1652, 'tape': 1653, 'confined': 1654, 'interchanging': 1655, 'toll': 1656, 'flick': 1657, 'switch': 1658, 'third': 1659, 'fat': 1660, 'cats': 1661, 'attack': 1662, \"time's\": 1663, 'unify': 1664, 'flag': 1665, 'ascend': 1666, 'enslave': 1667, 'secret': 1668, 'tumbling': 1669, 'police': 1670, 'reached': 1671, 'further': 1672, 'suffered': 1673, 'loveless': 1674, 'denied': 1675, 'soothing': 1676, 'trick': 1677, 'lovers': 1678, 'wicked': 1679, 'may': 1680, 'sinner': 1681, 'tease': 1682, 'collateral': 1683, 'damage': 1684, 'whoever': 1685, 'holds': 1686, 'reigns': 1687, 'unproven': 1688, 'ancient': 1689, 'heroes': 1690, 'does': 1691, 'anyone': 1692, 'stumble': 1693, 'crumble': 1694, 'stripped': 1695, 'numbers': 1696, 'wonder': 1697, 'strangers': 1698, 'sunshine': 1699, 'dedication': 1700, 'age': 1701, 'rampage': 1702, 'repeat': 1703, 'religion': 1704, 'special': 1705, 'ones': 1706, 'injustice': 1707, 'norm': 1708, 'mk': 1709, 'ultra': 1710, 'wavelength': 1711, 'gently': 1712, 'coercive': 1713, 'notions': 1714, 'replaces': 1715, 'becomes': 1716, 'deleted': 1717, 'stroke': 1718, 'mon': 1719, 'coeur': 1720, \"s'ouvre\": 1721, 'ta': 1722, 'voix': 1723, 'pillars': 1724, 'pulled': 1725, 'wears': 1726, 'crown': 1727, 'owe': 1728, 'cracked': 1729, 'lightning': 1730, 'attacks': 1731, 'leo': 1732, 'rio': 1733, 'assure': 1734, 'debts': 1735, 'mu': 1736, 'se': 1737, 'aping': 1738, \"god's\": 1739, 'pollination': 1740, 'crowds': 1741, 'wade': 1742, 'breach': 1743, 'outer': 1744, 'counting': 1745, 'redemption': 1746, 'emancipation': 1747, 'policies': 1748, 'risen': 1749, 'overcome': 1750, 'greatness': 1751, 'dies': 1752, 'unsung': 1753, 'embedded': 1754, 'spies': 1755, 'brainwashing': 1756, 'starting': 1757, 'swallowing': 1758, 'keeping': 1759, 'afloat': 1760, 'expecting': 1761, 'headstrong': 1762, 'closer': 1763, 'sacrifice': 1764, 'commit': 1765, 'doubts': 1766, 'surround': 1767, 'deliver': 1768, 'wildest': 1769, 'appease': 1770, 'duration': 1771, 'resisting': 1772, 'temptations': 1773, 'vengeance': 1774, 'thrive': 1775, 'surrounds': 1776, 'desert': 1777, 'distress': 1778, 'advertise': 1779, 'expand': 1780, 'island': 1781, 'street': 1782, 'feet': 1783, 'franchise': 1784, 'competition': 1785, 'amortise': 1786, 'downsize': 1787, 'favour': 1788, 'explorers': 1789, 'hoped': 1790, 'seek': 1791, 'unknown': 1792, \"planet's\": 1793, 'overrun': 1794, 'fields': 1795, \"nature's\": 1796, 'glow': 1797, 'land': 1798, 'lush': 1799, 'rivers': 1800, 'routed': 1801, 'south': 1802, 'engines': 1803, 'roar': 1804, 'crops': 1805, 'drought': 1806, \"gold's\": 1807, 'helium': 1808, 'circles': 1809, 'shh': 1810, 'healed': 1811, 'reeling': 1812, 'fine': 1813, 'started': 1814, 'expelled': 1815, 'goodness': 1816, 'winning': 1817, 'loneliest': 1818, 'king': 1819, 'superstitions': 1820, 'condition': 1821, 'greet': 1822, 'promises': 1823, 'overrated': 1824, 'denial': 1825, 'mission': 1826, 'iniquity': 1827, 'scar': 1828, 'alert': 1829, 'dirt': 1830, 'round': 1831, 'divert': 1832, 'kick': 1833, 'processes': 1834, 'proceed': 1835, 'availability': 1836, 'remaining': 1837, 'decreases': 1838, 'exchanges': 1839, 'enters': 1840, 'leaves': 1841, 'continuously': 1842, 'flows': 1843, 'concentrated': 1844, 'dispersed': 1845, 'grade': 1846, 'economy': 1847, 'based': 1848, 'fundamental': 1849, 'thermodynamics': 1850, 'fixed': 1851, 'limits': 1852, 'innovation': 1853, 'advancement': 1854, 'species': 1855, 'radio': 1856, 'tv': 1857, 'broadcast': 1858, '29th': 1859, '2012': 1860, '18': 1861, '48': 1862, '19': 1863, 'revere': 1864, 'holiness': 1865, 'confine': 1866, 'ago': 1867, 'pulverised': 1868, 'inch': 1869, 'infinity': 1870, 'gave': 1871, 'hypnotize': 1872, 'taught': 1873, 'trace': 1874, 'remorse': 1875, 'guy': 1876, 'drill': 1877, 'sergeant': 1878, 'base': 1879, 'proper': 1880, 'authorization': 1881, 'jail': 1882, 'asks': 1883, 'motherfucker': 1884, 'improve': 1885, 'thresholds': 1886, 'responsible': 1887, 'pussy': 1888, 'infiltrate': 1889, 'eat': 1890, 'absent': 1891, 'tyranny': 1892, 'hypnotized': 1893, 'puppeteer': 1894, 'disavows': 1895, 'gutless': 1896, 'field': 1897, 'crosshair': 1898, 'recourse': 1899, 'wheel': 1900, 'hellfire': 1901, 'wiping': 1902, 'moved': 1903, 'gear': 1904, 'pawn': 1905, 'expendable': 1906, 'incidentally': 1907, 'electronically': 1908, 'oppressor': 1909, 'programmed': 1910, 'execute': 1911, 'demands': 1912, 'trance': 1913, 'formation': 1914, 'empowered': 1915, 'translation': 1916, 'impassive': 1917, 'grip': 1918, 'jfk': 1919, 'opposed': 1920, 'monolithic': 1921, 'ruthless': 1922, 'conspiracy': 1923, 'relies': 1924, 'primarily': 1925, 'covert': 1926, 'expanding': 1927, 'influence': 1928, 'infiltration': 1929, 'invasion': 1930, 'subversion': 1931, 'elections': 1932, 'intimidation': 1933, 'guerrillas': 1934, 'armies': 1935, 'which': 1936, 'conscripted': 1937, 'vast': 1938, 'material': 1939, 'resources': 1940, 'tightly': 1941, 'knit': 1942, 'highly': 1943, 'efficient': 1944, 'combines': 1945, 'military': 1946, 'diplomatic': 1947, 'intelligence': 1948, 'economic': 1949, 'scientific': 1950, 'political': 1951, 'operations': 1952, 'preparations': 1953, 'concealed': 1954, 'published': 1955, 'headlined': 1956, 'dissenters': 1957, 'praised': 1958, 'empire': 1959, 'dissolving': 1960, 'turned': 1961, 'belly': 1962, 'yellow': 1963, 'overthrown': 1964, 'razed': 1965, 'confident': 1966, 'independent': 1967, 'seems': 1968, 'impossible': 1969, 'oppression': 1970, 'persisting': 1971, 'conditioning': 1972, 'loan': 1973, 'sights': 1974, 'distant': 1975, 'thunder': 1976, \"earth's\": 1977, 'hunger': 1978, 'jungle': 1979, 'suppressed': 1980, 'mumbles': 1981, 'homes': 1982, 'confusion': 1983, 'aftermath': 1984, 'drained': 1985, 'faint': 1986, 'hearted': 1987, 'tide': 1988, 'globalist': 1989, 'nurtured': 1990, 'churches': 1991, 'unprotected': 1992, 'lands': 1993, 'arm': 1994, 'nuclear': 1995, 'transform': 1996, 'desire': 1997, 'commander': 1998, 'chief': 1999, 'motives': 2000, 'dismantle': 2001, 'given': 2002, '9': 2003, '8': 2004, '7': 2005, '6': 2006, '5': 2007, '4': 2008, 'survivors': 2009, 'gather': 2010, 'countries': 2011, 'hunter': 2012, 'culture': 2013, 'trillion': 2014, 'forevermore': 2015, 'father': 2016, 'sister': 2017, 'brother': 2018, 'son': 2019, 'daughter': 2020, 'fingers': 2021, 'thumb': 2022, 'safety': 2023, 'amen': 2024, 'algorithm': 2025, 'churn': 2026, 'cog': 2027, 'simulations': 2028, 'algorithms': 2029, 'render': 2030, 'obsolete': 2031, 'reload': 2032, 'crash': 2033, 'pursued': 2034, 'hail': 2035, 'besieged': 2036, \"back's\": 2037, 'exit': 2038, 'grinding': 2039, \"pressure's\": 2040, 'exponentially': 2041, 'speed': 2042, 'lane': 2043, 'oscillating': 2044, 'hitting': 2045, 'sprinting': 2046, 'tuning': 2047, '\\u200b': 2048, 'choke': 2049, 'blind': 2050, 'carry': 2051, 'burden': 2052, 'curb': 2053, 'thwart': 2054, 'block': 2055, 'propaganda': 2056, 'floozy': 2057, 'woozy': 2058, 'finger': 2059, 'chick': 2060, 'ate': 2061, 'eater': 2062, 'oil': 2063, 'slick': 2064, 'choking': 2065, 'pollution': 2066, 'contort': 2067, 'cope': 2068, 'sugar': 2069, 'coat': 2070, 'circuits': 2071, 'imposed': 2072, 'changed': 2073, 'depressurize': 2074, 'ten': 2075, 'shade': 2076, 'absolve': 2077, 'unscathed': 2078, \"picture's\": 2079, 'replaced': 2080, 'mile': 2081, 'fractured': 2082, 'identity': 2083, 'fragments': 2084, 'debris': 2085, 'count': 2086, 'prop': 2087, 'withdraw': 2088, 'slate': 2089, \"have's\": 2090, 'fallouts': 2091, 'heads': 2092, 'sound': 2093, 'hush': 2094, 'calm': 2095, 'turmoil': 2096, 'higher': 2097, 'order': 2098, 'simulation': 2099, 'unable': 2100, 'searching': 2101, 'veil': 2102, 'unseen': 2103, 'sacrificed': 2104, 'descends': 2105, 'decides': 2106, 'clown': 2107, 'firing': 2108, 'squad': 2109, 'thin': 2110, 'entered': 2111, 'fray': 2112, 'abide': 2113, 'saved': 2114, 'slay': 2115, 'giants': 2116, 'leap': 2117, 'delusions': 2118, 'coder': 2119, 'avatar': 2120, 'thе': 2121, 'emperors': 2122, 'ocеan': 2123, 'goon': 2124, 'flood': 2125, 'devotion': 2126, 'institutions': 2127, 'transformation': 2128, 'sons': 2129, 'unlock': 2130, 'daughters': 2131, 'bathwater': 2132, 'transmutation': 2133, 'conceive': 2134, 'sheeple': 2135, 'fatigue': 2136, 'protection': 2137, 'rejection': 2138, 'tracks': 2139, 'chew': 2140, 'clique': 2141, 'soldier': 2142, 'loyal': 2143, 'airwaves': 2144, 'army': 2145, 'though': 2146, 'siege': 2147, 'abdication': 2148, 'regime': 2149, 'revocation': 2150, 'gaslighting': 2151, 'vicariously': 2152, 'asunder': 2153, 'shadow': 2154, 'hang': 2155, 'psychological': 2156, 'score': 2157, 'drifts': 2158, 'unsolved': 2159, 'haunt': 2160, 'heal': 2161, 'confessions': 2162, 'beside': 2163, 'checking': 2164, \"where'd\": 2165, 'kitchen': 2166, 'knife': 2167, 'hand': 2168, 'cure': 2169, 'fan': 2170, 'knees': 2171, 'writing': 2172, 'withdrawal': 2173, 'key': 2174, 'possessed': 2175, 'caretaker': 2176, 'cornered': 2177, 'exhausted': 2178, 'compassion': 2179, 'dissolved': 2180, 'materialised': 2181, 'rewards': 2182, 'driven': 2183, 'stake': 2184, 'prefers': 2185, 'assert': 2186, 'brought': 2187, 'verona': 2188, 'ask': 2189, 'clothes': 2190, 'caution': 2191, 'voltage': 2192, 'spiritless': 2193, 'worn': 2194, 'heavy': 2195, 'restless': 2196, 'spice': 2197, 'affair': 2198, 'vacuum': 2199, 'designed': 2200, 'swallow': 2201, \"death's\": 2202, 'deadly': 2203, 'secure': 2204, 'rigged': 2205, 'hoard': 2206, 'frankie': 2207, 'valli': 2208, 'pardon': 2209, 'stare': 2210, 'compare': 2211, 'sustain': 2212, 'm': 2213, 'deeply': 2214, 'bed': 2215, 'con': 2216, 'science': 2217, 'ribs': 2218, 'cruels': 2219, 'desicrate': 2220, 'demolished': 2221, 'demo': 2222, 'version': 2223, 'swear': 2224, 'crack': 2225, \"mustn't\": 2226, 'brutal': 2227, 'exists': 2228, \"she's\": 2229, 'screen': 2230, \"he's\": 2231, 'inhibitions': 2232, 'refuses': 2233, 'hypnotise': 2234, 'chris': 2235, 'eurocks': 2236, '2002': 2237, 'damo': 2238, 'futurism': 2239, 'origin': 2240, 'symmetry': 2241, 'ignorance': 2242, 'pulls': 2243, 'apostasy': 2244, 'decide': 2245, 'alignment': 2246, 'planets': 2247, 'muse': 2248, 'bonus': 2249, 'track': 2250, 'rose': 2251, 'tinted': 2252, 'view': 2253, 'compromise': 2254, 'wendy': 2255, 'read': 2256, 'youth': 2257, 'warchild': 2258, 'cd': 2259, 'compilation': 2260, 'moving': 2261, 'pink': 2262, 'ego': 2263, 'box': 2264, 'ok': 2265, 'bytes': 2266, 'voice': 2267, 'strained': 2268, 'beats': 2269, 'smiths': 2270, \"'not\": 2271, 'teen': 2272, \"movie'\": 2273, 'ost': 2274, 'luck': 2275, \"haven't\": 2276, 'spiral': 2277, 'showbiz': 2278, 'known': 2279, 'groan': 2280, 'quiver': 2281, 'moans': 2282, 'rape': 2283, 'pillage': 2284, 'prooves': 2285, 'public': 2286, 'vote': 2287, 'prize': 2288, 'masks': 2289, 'shifting': 2290, 'l': 2291, 'ike': 2292, 'chameleon': 2293, 'wow': 2294, 'emma': 2295, 'twin': 2296, 'gaze': 2297, 'beams': 2298, 'sucks': 2299, 'breath': 2300, 'rather': 2301, 'slowly': 2302, 'featuring': 2303, 'skinner': 2304, 'mill': 2305, 'nearer': 2306, 'cost': 2307, 'currently': 2308, 'costing': 2309, 'dare': 2310, 'deeper': 2311, 'figures': 2312, 'attacking': 2313, 'curve': 2314, 'ball': 2315, 'dressed': 2316, 'milling': 2317, 'raise': 2318, 'warning': 2319, \"name's\": 2320, 'mud': 2321, 'commodity': 2322, 'gap': 2323, 'art': 2324, 'artist': 2325, 'wrote': 2326, 'prose': 2327, 'write': 2328, 'rubbish': 2329, 'keen': 2330, 'redness': 2331, 'put': 2332, 'orange': 2333, 'suit': 2334, 'shackle': 2335, 'ankles': 2336, \"couldn't\": 2337, \"boys'll\": 2338, 'low': 2339, 'floor': 2340}\n",
      "Toplam kelime sayısı: 2341\n"
     ]
    }
   ],
   "source": [
    "from tensorflow.keras.preprocessing.text import Tokenizer\n",
    "\n",
    "tokenizer = Tokenizer()\n",
    "data = open(\"muse_all_songs.txt\").read()\n",
    "\n",
    "corpus = data.lower().split(\"\\n\")\n",
    "\n",
    "tokenizer.fit_on_texts(corpus)\n",
    "total_words = len(tokenizer.word_index) + 1\n",
    "\n",
    "print(tokenizer.word_index)\n",
    "print(\"word count:\", total_words)\n"
   ]
  },
  {
   "cell_type": "code",
   "execution_count": 18,
   "metadata": {
    "executionInfo": {
     "elapsed": 120,
     "status": "ok",
     "timestamp": 1754311663481,
     "user": {
      "displayName": "Emre Gündoğdu",
      "userId": "11995102568587263945"
     },
     "user_tz": -180
    },
    "id": "HPDl8OjLGX6J"
   },
   "outputs": [],
   "source": [
    "input_sequences = []\n",
    "for line in corpus:\n",
    "\ttoken_list = tokenizer.texts_to_sequences([line])[0]\n",
    "\tfor i in range(1, len(token_list)):\n",
    "\t\tn_gram_sequence = token_list[:i+1]\n",
    "\t\tinput_sequences.append(n_gram_sequence)\n",
    "\n",
    "# pad sequences\n",
    "max_sequence_len = max([len(x) for x in input_sequences])\n",
    "input_sequences = np.array(pad_sequences(input_sequences, maxlen=max_sequence_len, padding='pre'))\n",
    "\n",
    "\n",
    "xs, labels = input_sequences[:,:-1],input_sequences[:,-1]\n",
    "\n",
    "ys = tf.keras.utils.to_categorical(labels, num_classes=total_words)"
   ]
  },
  {
   "cell_type": "code",
   "execution_count": null,
   "metadata": {
    "id": "FlfApbM9GZqf"
   },
   "outputs": [],
   "source": [
    "from tensorflow.keras.models import Sequential\n",
    "from tensorflow.keras.layers import Embedding, Bidirectional, LSTM, Dropout, Dense\n",
    "from tensorflow.keras.optimizers import Adam\n",
    "from tensorflow.keras.callbacks import EarlyStopping\n",
    "\n",
    "model = Sequential()\n",
    "model.add(Embedding(total_words, 128, input_length=max_sequence_len - 1))\n",
    "model.add(Bidirectional(LSTM(150, return_sequences=True)))\n",
    "model.add(Dropout(0.2))\n",
    "model.add(LSTM(100))\n",
    "model.add(Dense(total_words, activation='softmax'))\n",
    "\n",
    "adam = Adam(learning_rate=0.001)\n",
    "model.compile(loss='categorical_crossentropy', optimizer=adam, metrics=['accuracy'])\n",
    "\n",
    "\n",
    "earlystop = EarlyStopping(monitor='loss', patience=5, restore_best_weights=True)\n",
    "\n",
    "history = model.fit(xs, ys, epochs=150, verbose=1, callbacks=[earlystop])\n"
   ]
  },
  {
   "cell_type": "code",
   "execution_count": null,
   "metadata": {
    "id": "6ebbnCzjGa6m"
   },
   "outputs": [],
   "source": [
    "import matplotlib.pyplot as plt\n",
    "\n",
    "\n",
    "def plot_graphs(history, string):\n",
    "  plt.plot(history.history[string])\n",
    "  plt.xlabel(\"Epochs\")\n",
    "  plt.ylabel(string)\n",
    "  plt.show()"
   ]
  },
  {
   "cell_type": "code",
   "execution_count": null,
   "metadata": {
    "id": "SDyRTVuQGb1b"
   },
   "outputs": [],
   "source": [
    "plot_graphs(history, 'accuracy')\n"
   ]
  },
  {
   "cell_type": "code",
   "execution_count": null,
   "metadata": {
    "id": "LnswWfI9GdJ1"
   },
   "outputs": [],
   "source": [
    "seed_text = \"your sentence\"\n",
    "next_words = 100\n",
    "\n",
    "for _ in range(next_words):\n",
    "\ttoken_list = tokenizer.texts_to_sequences([seed_text])[0]\n",
    "\ttoken_list = pad_sequences([token_list], maxlen=max_sequence_len-1, padding='pre')\n",
    "\tpredicted = np.argmax(model.predict(token_list), axis=-1)\n",
    "\toutput_word = \"\"\n",
    "\tfor word, index in tokenizer.word_index.items():\n",
    "\t\tif index == predicted:\n",
    "\t\t\toutput_word = word\n",
    "\t\t\tbreak\n",
    "\tseed_text += \" \" + output_word\n",
    "print(seed_text)"
   ]
  }
 ],
 "metadata": {
  "colab": {
   "authorship_tag": "ABX9TyP62TnfSV6fN+FYXd2iUa6j",
   "provenance": []
  },
  "kernelspec": {
   "display_name": "Python 3",
   "name": "python3"
  },
  "language_info": {
   "name": "python"
  }
 },
 "nbformat": 4,
 "nbformat_minor": 0
}
